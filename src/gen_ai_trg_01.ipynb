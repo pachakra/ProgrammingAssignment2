{
  "nbformat": 4,
  "nbformat_minor": 0,
  "metadata": {
    "colab": {
      "provenance": [],
      "authorship_tag": "ABX9TyMtbAx5WwHM3En9e1dsyMfz",
      "include_colab_link": true
    },
    "kernelspec": {
      "name": "python3",
      "display_name": "Python 3"
    },
    "language_info": {
      "name": "python"
    }
  },
  "cells": [
    {
      "cell_type": "markdown",
      "metadata": {
        "id": "view-in-github",
        "colab_type": "text"
      },
      "source": [
        "<a href=\"https://colab.research.google.com/github/pachakra/ProgrammingAssignment2/blob/master/src/gen_ai_trg_01.ipynb\" target=\"_parent\"><img src=\"https://colab.research.google.com/assets/colab-badge.svg\" alt=\"Open In Colab\"/></a>"
      ]
    },
    {
      "cell_type": "code",
      "execution_count": null,
      "metadata": {
        "id": "eZOpqQ6lOTTv"
      },
      "outputs": [],
      "source": [
        "# prompt: Print Hello with Python\n",
        "\n",
        "print('Hello')\n"
      ]
    },
    {
      "cell_type": "code",
      "source": [
        "! pip install cohere"
      ],
      "metadata": {
        "id": "oWHkw6BxWwG8"
      },
      "execution_count": null,
      "outputs": []
    },
    {
      "cell_type": "code",
      "source": [
        "COHERE_API_KEY = 'OqBVWAI3Qt8RWI1WQJBxX777HWVavi6kCi1D9wRG'"
      ],
      "metadata": {
        "id": "6duA62pybTMg"
      },
      "execution_count": 23,
      "outputs": []
    },
    {
      "cell_type": "code",
      "source": [
        "import cohere\n",
        "\n",
        "#COHERE_API_KEY = 'OqBVWAI3Qt8RWI1WQJBxX777HWVavi6kCi1D9wRG'\n",
        "\n",
        "co = cohere.Client(COHERE_API_KEY)\n",
        "resp = co.generate(prompt = \"What are the most polluted cities in the world?\",\n",
        "                   max_tokens = 1024,\n",
        "                   temperature = 0.5,\n",
        "                   stop_sequences = [\"\\n\"],)\n",
        "print(resp.generations)"
      ],
      "metadata": {
        "colab": {
          "base_uri": "https://localhost:8080/"
        },
        "id": "oD9wVXU8QI1x",
        "outputId": "5fca877c-9686-4051-f3a7-f88df404101b"
      },
      "execution_count": 13,
      "outputs": [
        {
          "output_type": "stream",
          "name": "stdout",
          "text": [
            "[SingleGeneration(id='286b3399-727f-4df2-9a43-b8f2b68f9c15', text=' Here is a list of the most polluted cities in the world according to Forbes: \\n', index=None, likelihood=None, token_likelihoods=None, finish_reason='COMPLETE')]\n"
          ]
        }
      ]
    },
    {
      "cell_type": "code",
      "source": [
        "import cohere\n",
        "import textwrap as tr\n",
        "\n",
        "#COHERE_API_KEY = 'OqBVWAI3Qt8RWI1WQJBxX777HWVavi6kCi1D9wRG'\n",
        "my_prompt = prompt = \"\"\"\n",
        "Write the first paragraph of a resume given the resume title.\n",
        "--\n",
        "Resume Title: Senior Manager looking for role in cloud\n",
        "First Paragraph: I am a senior manager looking to manage a development team with a leading cloud provider like Oracle or AWS.\n",
        "I have more than 15 years of experience managing teams developing applications on the Java/J2EE stack\n",
        "--\n",
        "Blog Title: Looking for a Database Administrator's Role\n",
        "First Paragraph: I have 5 years of experience in database administration. Worked on Oracle database and IBM DB2.\n",
        "I am looking for a Database Administrator's role in a large Fortune 500 company.\n",
        "--\n",
        "Blog Title: Looking for C++ Developer's Role\n",
        "First Paragraph:\"\"\"\n",
        "\n",
        "\n",
        "co = cohere.Client(COHERE_API_KEY)\n",
        "#https://docs.aws.amazon.com/bedrock/latest/userguide/model-parameters-cohere-command.html\n",
        "resp = co.generate(prompt = my_prompt,\n",
        "                   max_tokens = 1024,\n",
        "                   temperature = 0.5,\n",
        "                   stop_sequences = [\"\\n\"],\n",
        "                    num_generations = 3,\n",
        "                   return_likelihoods = \"GENERATION\") #Default NONE\n",
        "#print(resp.generations)\n",
        "for g in resp.generations:\n",
        "  output = (g.text)\n",
        "  output = tr.fill(output, width = 80)\n",
        "  print(f\"Likelihood {g.likelihood}\")\n",
        "  print(output)\n",
        "  print(\"\\n\")\n"
      ],
      "metadata": {
        "colab": {
          "base_uri": "https://localhost:8080/"
        },
        "id": "H5cJnzyEXC2N",
        "outputId": "ca8237f6-4814-4863-dff4-ad7cc7dd9bf1"
      },
      "execution_count": 34,
      "outputs": [
        {
          "output_type": "stream",
          "name": "stdout",
          "text": [
            "Likelihood -0.21436585\n",
            " I am a dedicated C++ developer with over 7 years of experience in the IT\n",
            "industry. My professional background includes working on a variety of projects,\n",
            "developing innovative software solutions for a range of clients. My specialties\n",
            "include object-oriented programming, algorithm optimization, and software\n",
            "design. I am skilled in analyzing and resolving complex technical issues,\n",
            "working collaboratively with stakeholders to achieve project goals. I am now\n",
            "seeking a C++ developer role where I can utilize my skills and expertise to make\n",
            "a meaningful contribution to a fast-paced team.\n",
            "\n",
            "\n",
            "Likelihood -0.2016498\n",
            " I am a dedicated C++ developer with over 7 years of experience in the IT\n",
            "industry. My professional background includes working on a variety of projects,\n",
            "honing my skills in software development, and designing and implementing robust\n",
            "solutions. I am well-versed in various programming languages, particularly C++,\n",
            "and have a deep understanding of both software and hardware architectures. I am\n",
            "now seeking new challenges as a C++ developer in a fast-paced organization where\n",
            "I can utilize my skills to contribute to innovative projects and drive the\n",
            "success of cutting-edge software solutions.\n",
            "\n",
            "\n",
            "Likelihood -0.2575586\n",
            " I am a dedicated C++ developer with over 7 years of experience in the software\n",
            "development field. I am skilled in developing and implementing C++ applications,\n",
            "as well as troubleshooting and solving complex problems. My background in\n",
            "producing reliable and optimized code to create innovative solutions drives my\n",
            "passion for delivering high-quality work. I am now seeking a challenging C++\n",
            "developer role where I can continue to grow my career and make impactful\n",
            "contributions to the industry.\n",
            "\n",
            "\n"
          ]
        }
      ]
    }
  ]
}