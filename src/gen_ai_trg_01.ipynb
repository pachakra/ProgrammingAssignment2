{
  "nbformat": 4,
  "nbformat_minor": 0,
  "metadata": {
    "colab": {
      "provenance": [],
      "toc_visible": true,
      "authorship_tag": "ABX9TyM4U7Q+MhTAkmU1PNk2B17E",
      "include_colab_link": true
    },
    "kernelspec": {
      "name": "python3",
      "display_name": "Python 3"
    },
    "language_info": {
      "name": "python"
    }
  },
  "cells": [
    {
      "cell_type": "markdown",
      "metadata": {
        "id": "view-in-github",
        "colab_type": "text"
      },
      "source": [
        "<a href=\"https://colab.research.google.com/github/pachakra/ProgrammingAssignment2/blob/master/src/gen_ai_trg_01.ipynb\" target=\"_parent\"><img src=\"https://colab.research.google.com/assets/colab-badge.svg\" alt=\"Open In Colab\"/></a>"
      ]
    },
    {
      "cell_type": "code",
      "execution_count": null,
      "metadata": {
        "id": "eZOpqQ6lOTTv"
      },
      "outputs": [],
      "source": [
        "# prompt: Print Hello with Python\n",
        "\n",
        "print('Hello')\n"
      ]
    },
    {
      "cell_type": "code",
      "source": [
        "! pip install cohere"
      ],
      "metadata": {
        "id": "oWHkw6BxWwG8"
      },
      "execution_count": null,
      "outputs": []
    },
    {
      "cell_type": "code",
      "source": [
        "COHERE_API_KEY = 'OqBVWAI3Qt8RWI1WQJBxX777HWVavi6kCi1D9wRG'"
      ],
      "metadata": {
        "id": "6duA62pybTMg"
      },
      "execution_count": 23,
      "outputs": []
    },
    {
      "cell_type": "code",
      "source": [
        "import cohere\n",
        "\n",
        "#COHERE_API_KEY = 'OqBVWAI3Qt8RWI1WQJBxX777HWVavi6kCi1D9wRG'\n",
        "\n",
        "co = cohere.Client(COHERE_API_KEY)\n",
        "resp = co.generate(prompt = \"What are the most polluted cities in the world?\",\n",
        "                   max_tokens = 1024,\n",
        "                   temperature = 0.5,\n",
        "                   stop_sequences = [\"\\n\"],)\n",
        "print(resp.generations)"
      ],
      "metadata": {
        "colab": {
          "base_uri": "https://localhost:8080/"
        },
        "id": "oD9wVXU8QI1x",
        "outputId": "5fca877c-9686-4051-f3a7-f88df404101b"
      },
      "execution_count": 13,
      "outputs": [
        {
          "output_type": "stream",
          "name": "stdout",
          "text": [
            "[SingleGeneration(id='286b3399-727f-4df2-9a43-b8f2b68f9c15', text=' Here is a list of the most polluted cities in the world according to Forbes: \\n', index=None, likelihood=None, token_likelihoods=None, finish_reason='COMPLETE')]\n"
          ]
        }
      ]
    },
    {
      "cell_type": "code",
      "source": [
        "import cohere\n",
        "import textwrap as tr\n",
        "\n",
        "#COHERE_API_KEY = 'OqBVWAI3Qt8RWI1WQJBxX777HWVavi6kCi1D9wRG'\n",
        "my_prompt = \"\"\"\n",
        "Write the first paragraph of a resume given the resume title.\n",
        "--\n",
        "Resume Title: Senior Manager looking for role in cloud\n",
        "First Paragraph: I am a senior manager looking to manage a development team with a leading cloud provider like Oracle or AWS.\n",
        "I have more than 15 years of experience managing teams developing applications on the Java/J2EE stack\n",
        "--\n",
        "Resume Title: Looking for a Database Administrator's Role\n",
        "First Paragraph: I have 5 years of experience in database administration. Worked on Oracle database and IBM DB2.\n",
        "I am looking for a Database Administrator's role in a large Fortune 500 company.\n",
        "--\n",
        "Resume Title: Looking for senior C++ Developer's Role\n",
        "First Paragraph:\"\"\"\n",
        "\n",
        "\n",
        "co = cohere.Client(COHERE_API_KEY)\n",
        "#https://docs.aws.amazon.com/bedrock/latest/userguide/model-parameters-cohere-command.html\n",
        "resp = co.generate(prompt = my_prompt,\n",
        "                   max_tokens = 1024,\n",
        "                   temperature = 0.5,\n",
        "                   stop_sequences = [\"\\n\"],\n",
        "                    num_generations = 3,\n",
        "                   return_likelihoods = \"GENERATION\") #Default NONE\n",
        "#print(resp.generations)\n",
        "for g in resp.generations:\n",
        "  output = (g.text)\n",
        "  output = tr.fill(output, width = 80)\n",
        "  print(f\"Likelihood {g.likelihood}\")\n",
        "  print(output)\n",
        "  print(\"\\n\")\n"
      ],
      "metadata": {
        "colab": {
          "base_uri": "https://localhost:8080/"
        },
        "id": "H5cJnzyEXC2N",
        "outputId": "95a1d177-1904-4c59-8a55-1b6107dbece3"
      },
      "execution_count": 40,
      "outputs": [
        {
          "output_type": "stream",
          "name": "stdout",
          "text": [
            "Likelihood -0.24490571\n",
            " I am an accomplished Senior C++ Developer with over 10 years of experience in\n",
            "the IT industry and a strong background in developing innovative software\n",
            "solutions for a variety of complex projects. I am well-versed in designing and\n",
            "implementing high-performance, scalable, and reliable applications. My\n",
            "specialties include C++, Software Design, Algorithm Optimization, and Version\n",
            "Control, with a keen focus on maintaining coding standards and best practices. I\n",
            "am confident that my skills and expertise make me an ideal candidate for a\n",
            "senior C++ developer role in a fast-paced organization, where I can utilize my\n",
            "abilities to contribute to impactful projects and drive the success of cutting-\n",
            "edge software solutions.\n",
            "\n",
            "\n",
            "Likelihood -0.23990647\n",
            " I am an adept Senior C++ Developer, with over 10 years of experience in\n",
            "developing cutting-edge software for a variety of platforms, particularly\n",
            "focusing on Windows and iOS. My expertise includes developing high-performance\n",
            "applications, optimizing code for maximum efficiency, and designing robust and\n",
            "scalable software architectures. I am well-versed in agile methodologies and\n",
            "have led successful software development teams. As a highly motivated and\n",
            "results-driven professional, I am now seeking a challenging Senior C++ Developer\n",
            "role where I can make a meaningful impact and contribute to innovative projects\n",
            "that demand my advanced programming skills.\n",
            "\n",
            "\n",
            "Likelihood -0.31603536\n",
            " I am an adept Senior C++ Developer, with a knack for designing and implementing\n",
            "innovative solutions for the development of high-quality software architectures.\n",
            "With a wealth of experience in software design and development, particularly in\n",
            "the C++ programming language, I have consistently demonstrated the ability to\n",
            "deliver outstanding results in a fast-paced environment, making me a valuable\n",
            "addition to any tech team. My profound expertise in debugging, performance\n",
            "optimization, and version control, combined with strong communication skills,\n",
            "empowers me to collaborate effectively with cross-functional teams and drive\n",
            "projects to success. I am now actively seeking a challenging Senior C++\n",
            "Developer role where I can continue to thrive and make a significant impact on\n",
            "cutting-edge projects.\n",
            "\n",
            "\n"
          ]
        }
      ]
    },
    {
      "cell_type": "code",
      "source": [
        "base_prompt = \"\"\"\n",
        "Write the first paragraph of a resume given the resume title.\n",
        "--\n",
        "Resume Title: Senior Manager looking for role in cloud\n",
        "First Paragraph: I am a senior manager looking to manage a development team with a leading cloud provider like Oracle or AWS.\n",
        "I have more than 15 years of experience managing teams developing applications on the Java/J2EE stack\n",
        "--\n",
        "Resume Title: Looking for a Database Administrator's Role\n",
        "First Paragraph: I have 5 years of experience in database administration. Worked on Oracle database and IBM DB2.\n",
        "I am looking for a Database Administrator's role in a large Fortune 500 company.\n",
        "--\n",
        "Resume Title:\n",
        "\"\"\"\n",
        "\n",
        "topics = [\"Looking for senior C++ Developer's Role\",\n",
        "          \"Senior data scientist looking for a position in research lab\",\n",
        "          \"Experienced sales professional looking for a bigger role\"]\n"
      ],
      "metadata": {
        "id": "dmllLF2EjnVx"
      },
      "execution_count": 44,
      "outputs": []
    },
    {
      "cell_type": "code",
      "source": [
        "def generate_text(cohere_client, base_prompt, current_prompt, nums=1, sseq = [\"---\"]):\n",
        "  \"\"\" Generate text given a base prompt and current prompt.\n",
        "      cohere_client : Cohere client object initialised with API key\n",
        "       nums is the number of generations (defaults to 1)\n",
        "  \"\"\"\n",
        "  resp = co.generate(prompt = base_prompt + current_prompt,\n",
        "                   max_tokens = 1024,\n",
        "                   temperature = 0.5,\n",
        "                   stop_sequences = sseq,\n",
        "                    num_generations = nums,\n",
        "                   return_likelihoods = \"GENERATION\") #Default NONE\n",
        "  return resp.generations\n",
        "\n",
        "def print_paras(paras):\n",
        "  for para in paras:\n",
        "    op = tr.fill(para, width = 80)\n",
        "    print(op)\n",
        "    print(\"\\n\")\n",
        "\n",
        "paras = []\n",
        "for topic in topics:\n",
        "  curr_prompt = \" \"+topic + \"\\n\" + \"First Paragraph :\"\n",
        "  para = generate_text(co, base_prompt, curr_prompt)\n",
        "  para = para[0].text.strip().replace(\"--\", \"\")\n",
        "  paras.append(para)\n",
        "\n",
        "print_paras(paras)\n"
      ],
      "metadata": {
        "colab": {
          "base_uri": "https://localhost:8080/"
        },
        "id": "ZzMuyR5If6tN",
        "outputId": "cd038c5e-776e-45de-b56d-ed4c1acd387b"
      },
      "execution_count": 52,
      "outputs": [
        {
          "output_type": "stream",
          "name": "stdout",
          "text": [
            "I am a senior C++ developer with over 10 years of experience in software\n",
            "development and a strong background in designing and developing high-\n",
            "performance, low-latency software for financial applications. My resume reflects\n",
            "a solid record of achievement in producing robust, scalable, and efficient code.\n",
            "I am highly skilled in working with C++ and have extensive knowledge of\n",
            "programming algorithms, data structures, and design patterns. My expertise also\n",
            "includes working with financial databases and integrating multiple data sources.\n",
            "I am now looking to take the next step in my career by joining a innovative\n",
            "development team in a senior role where I can leverage my skills and make a\n",
            "meaningful contribution to the organization's success.\n",
            "\n",
            "\n",
            "I am a Senior Data Scientist with experience in the healthcare industry, looking\n",
            "to transition to a research lab where I can apply my skills in both data\n",
            "analysis and natural language processing to contribute to cutting-edge research.\n",
            "\n",
            "\n",
            "As a seasoned sales professional, with extensive experience driving sales growth\n",
            "and establishing strong client relationships, I am eager to take on a broader\n",
            "role within an organization. My background includes a track record of\n",
            "consistently meeting and exceeding sales goals, while delivering exceptional\n",
            "customer service. I have consistently been a top performer throughout my career,\n",
            "and I am confident that I would be a valuable asset to your team, Given the\n",
            "right opportunity to join your company, I am certain that I would continue to\n",
            "shine and deliver exceptional results for even bigger roles and\n",
            "responsibilities.\n",
            "\n",
            "\n"
          ]
        }
      ]
    },
    {
      "cell_type": "code",
      "source": [
        "from cohere import ClassifyExample\n",
        "\n",
        "#co = cohere.Client('<<apiKey>>')\n",
        "examples = [ClassifyExample(text = \"I’m so proud of you\", label = \"yippee\"),\n",
        "            ClassifyExample(text = \"What a great time to be alive\", label = \"yippee\"),\n",
        "            ClassifyExample(text = \"That’s awesome work\", label = \"yippee\"),\n",
        "            ClassifyExample(text = \"The service was amazing\", label = \"yippee\"),\n",
        "            ClassifyExample(text = \"I love my family\", label = \"yippee\"),\n",
        "            ClassifyExample(text = \"They don't care about me\", label = \"bruhh\"),\n",
        "            ClassifyExample(text = \"I hate this place\", label = \"bruhh\"),\n",
        "            ClassifyExample(text = \"The most ridiculous thing I've ever heard\", label = \"bruhh\"),\n",
        "            ClassifyExample(text = \"I am really frustrated\", label = \"bruhh\"),\n",
        "            ClassifyExample(text = \"This is so unfair\", label = \"bruhh\"),\n",
        "            ClassifyExample(text = \"This made me think\", label = \"fifty-fifty\"),\n",
        "            ClassifyExample(text = \"The good old days\", label =  \"fifty-fifty\"),\n",
        "            ClassifyExample(text = \"What's the difference\", label = \"fifty-fifty\"),\n",
        "            ClassifyExample(text = \"You can't ignore this\", label = \"fifty-fifty\"),\n",
        "            ClassifyExample(text = \"That's how I see it\", label = \"fifty-fifty\")\n",
        "            ]\n",
        "\n",
        "# Enter the inputs to be classified\n",
        "inputs=[\"Hello, world! What a beautiful day\",\n",
        "        \"It was a great time with great people\",\n",
        "        \"Great place to work\",\n",
        "        \"That was a wonderful evening\",\n",
        "        \"Maybe this is why\",\n",
        "        \"Let's start again\",\n",
        "        \"That's how I see it\",\n",
        "        \"These are all facts\",\n",
        "        \"This is the worst thing\",\n",
        "        \"I cannot stand this any longer\",\n",
        "        \"This is really annoying\",\n",
        "        \"I am just plain fed up\"\n",
        "        ]\n",
        "\n",
        "def classify_text(inputs, examples):\n",
        "  response = co.classify(\n",
        "      model = \"embed-english-v2.0\",\n",
        "      inputs=inputs,examples=examples,\n",
        "      )\n",
        "  return response.classifications\n",
        "\n",
        "classes = [\"yippee\", \"bruhh\", \"fifty-fifty\"]\n",
        "\n",
        "predictions = classify_text(inputs, examples)\n",
        "for inp, pred in zip(inputs, predictions):\n",
        "  class_pred = pred.predictions[0]\n",
        "  class_idx = classes.index(class_pred)\n",
        "  class_conf = pred.confidences[0]\n",
        "\n",
        "  print(f\"Input {inp}\")\n",
        "  print(f\"Prediction: {class_pred}\")\n",
        "  print(f\"Confidence: {class_conf}\")\n",
        "  print(\"#\"*20)"
      ],
      "metadata": {
        "colab": {
          "base_uri": "https://localhost:8080/"
        },
        "id": "sL-srXh-o3HB",
        "outputId": "27b2e00e-bff5-41b6-a665-3901899df1e2"
      },
      "execution_count": 63,
      "outputs": [
        {
          "output_type": "stream",
          "name": "stdout",
          "text": [
            "Input Hello, world! What a beautiful day\n",
            "Prediction: yippee\n",
            "Confidence: 0.8356367\n",
            "####################\n",
            "Input It was a great time with great people\n",
            "Prediction: yippee\n",
            "Confidence: 0.9894383\n",
            "####################\n",
            "Input Great place to work\n",
            "Prediction: yippee\n",
            "Confidence: 0.90780926\n",
            "####################\n",
            "Input That was a wonderful evening\n",
            "Prediction: yippee\n",
            "Confidence: 0.9594032\n",
            "####################\n",
            "Input Maybe this is why\n",
            "Prediction: fifty-fifty\n",
            "Confidence: 0.69506323\n",
            "####################\n",
            "Input Let's start again\n",
            "Prediction: fifty-fifty\n",
            "Confidence: 0.83426356\n",
            "####################\n",
            "Input That's how I see it\n",
            "Prediction: fifty-fifty\n",
            "Confidence: 0.9990226\n",
            "####################\n",
            "Input These are all facts\n",
            "Prediction: fifty-fifty\n",
            "Confidence: 0.7789761\n",
            "####################\n",
            "Input This is the worst thing\n",
            "Prediction: bruhh\n",
            "Confidence: 0.93261963\n",
            "####################\n",
            "Input I cannot stand this any longer\n",
            "Prediction: bruhh\n",
            "Confidence: 0.9263561\n",
            "####################\n",
            "Input This is really annoying\n",
            "Prediction: bruhh\n",
            "Confidence: 0.9851861\n",
            "####################\n",
            "Input I am just plain fed up\n",
            "Prediction: bruhh\n",
            "Confidence: 0.999146\n",
            "####################\n"
          ]
        }
      ]
    }
  ]
}